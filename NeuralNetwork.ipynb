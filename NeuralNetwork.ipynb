{
 "cells": [
  {
   "cell_type": "code",
   "execution_count": 22,
   "metadata": {},
   "outputs": [],
   "source": [
    "import numpy as np\n",
    "import pandas as pd\n",
    "\n",
    "\n",
    "def one_hot_encoding(y, n_classes):\n",
    "        one_hot = np.zeros((n_classes, y.shape[0]))\n",
    "        for idx, val in enumerate(y):\n",
    "            one_hot[val, idx] = 1\n",
    "        return one_hot.T\n",
    "\n",
    "def sigmoid_activation_function(weightedInput):\n",
    "    return 1/(1 + np.exp(-weightedInput))\n",
    "\n",
    "class Layer:\n",
    "    def __init__(self, input_nodes, output_nodes):\n",
    "        self.input_nodes = input_nodes\n",
    "        self.output_nodes = output_nodes\n",
    "        random = np.random.RandomState(1)\n",
    "        self.weights = random.normal(loc=0.0, scale=0.1, size=(input_nodes, output_nodes))\n",
    "        self.bias_values = np.zeros(output_nodes)\n",
    "        self.weights_gradient_cost = np.zeros(shape = (input_nodes,output_nodes))\n",
    "        self.bias_term_gradient_cost = np.zeros(shape = (output_nodes))\n",
    "\n",
    "    def forward_propagation(self, input_values): \n",
    "        output_values = np.dot(input_values, self.weights) + self.bias_values\n",
    "        self.z = output_values\n",
    "        activation_values = sigmoid_activation_function(output_values)\n",
    "        self.a = activation_values\n",
    "\n",
    "        return activation_values\n",
    "    \n",
    "class NeuralNetwork:\n",
    "    def __init__(self, layer_sizes):\n",
    "        self.layers = [Layer(layer_sizes[layer_number], layer_sizes[layer_number + 1]) for layer_number in range(len(layer_sizes) - 1)]\n",
    "\n",
    "    def forward_propagation(self, input_values):\n",
    "        for layer in self.layers:\n",
    "            input_values = layer.forward_propagation(input_values)\n",
    "\n",
    "        return input_values\n",
    "\n",
    "    def network_predict(self,X):\n",
    "        activation_values = self.forward_propagation(X)\n",
    "        predictions = np.argmax(activation_values, axis = 1)\n",
    "\n",
    "        return predictions"
   ]
  },
  {
   "cell_type": "markdown",
   "metadata": {},
   "source": [
    "# Testing with iris dataset"
   ]
  },
  {
   "cell_type": "code",
   "execution_count": null,
   "metadata": {},
   "outputs": [],
   "source": [
    "iris_data = pd.read_csv('https://archive.ics.uci.edu/ml/''machine-learning-databases/iris/iris.data')\n",
    "\n",
    "def map_name_to_value(iris_name):\n",
    "    if 'Iris-virginica' == iris_name:\n",
    "        return 2\n",
    "    elif 'Iris-versicolor' == iris_name:\n",
    "        return 1\n",
    "    elif 'Iris-setosa' == iris_name:\n",
    "        return 0\n",
    "    \n",
    "    return -1 \n",
    "\n",
    "labels = [map_name_to_value(iris_name) for iris_name in iris_data.iloc[0:150, 4].values]\n",
    "input_values = iris_data.iloc[0:150, [0, 1, 2, 3]].values\n",
    "\n",
    "iris_data.head()\n",
    "print(labels)\n",
    "print(input_values)"
   ]
  },
  {
   "cell_type": "code",
   "execution_count": 37,
   "metadata": {},
   "outputs": [
    {
     "data": {
      "text/plain": [
       "array([ 7,  7,  7,  7,  7,  7,  7,  7,  7,  7,  7,  7, 11, 11,  7,  7,  7,\n",
       "        7,  7,  7,  7, 11,  7,  7,  7,  7,  7,  7,  7,  7,  7, 11, 11,  7,\n",
       "        7,  7,  7,  7,  7,  7,  5,  7,  7,  7,  7,  7,  7,  7,  7,  7,  7,\n",
       "        7,  7,  7,  7,  7,  7,  7,  7,  7,  7,  7,  7,  7,  7,  7,  7,  7,\n",
       "        7,  7,  7,  7,  7,  7,  7,  7,  7,  7,  7,  7,  7,  7,  7,  7,  7,\n",
       "        7,  7,  7,  7,  7,  7,  7,  7,  7,  7,  7,  7,  5,  7,  5,  5,  7,\n",
       "        7,  5,  7,  5,  7,  7,  5,  5,  5,  5,  5,  5,  5,  7,  7,  5,  7,\n",
       "        5,  5,  7,  5,  7,  7,  5,  7,  5,  7,  7,  7,  5,  7,  7,  5,  5,\n",
       "        7,  7,  5,  5,  5,  5,  5,  5,  5,  5,  5,  5,  7])"
      ]
     },
     "execution_count": 37,
     "metadata": {},
     "output_type": "execute_result"
    }
   ],
   "source": [
    "layers = [4, 60, 14]\n",
    "network = NeuralNetwork(layers)\n",
    "network.network_predict(input_values)"
   ]
  }
 ],
 "metadata": {
  "kernelspec": {
   "display_name": "Python 3",
   "language": "python",
   "name": "python3"
  },
  "language_info": {
   "codemirror_mode": {
    "name": "ipython",
    "version": 3
   },
   "file_extension": ".py",
   "mimetype": "text/x-python",
   "name": "python",
   "nbconvert_exporter": "python",
   "pygments_lexer": "ipython3",
   "version": "3.10.12"
  },
  "orig_nbformat": 4
 },
 "nbformat": 4,
 "nbformat_minor": 2
}
